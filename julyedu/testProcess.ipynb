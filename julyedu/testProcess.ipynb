{
 "cells": [
  {
   "cell_type": "code",
   "execution_count": 8,
   "metadata": {},
   "outputs": [],
   "source": [
    "def make_word_set(words_file):\n",
    "    words_set = set()\n",
    "    with open(words_file, 'r',encoding = 'utf-8') as fp:\n",
    "        for line in fp.readlines():\n",
    "            word = line.strip()\n",
    "            if len(word) > 0 and word not in words_file:\n",
    "                words_set.add(word)\n",
    "    return words_set"
   ]
  },
  {
   "cell_type": "code",
   "execution_count": 9,
   "metadata": {
    "scrolled": true
   },
   "outputs": [
    {
     "data": {
      "text/plain": [
       "{'都灵冬奥会，韩国六金三银二铜，排名第六，中国二金四银五铜，排名十四。按道理讲：中国冬奥军团能夺得十一枚奖牌，已经是历史最好成绩了．．．．．．',\n",
       " '１３日０２：３０男子１５００米１６日０２：３０女子５００米１８日０３：１５男子１０００米１９日０２：３０女子１５００米２３日２０：５６女子３０００米接力\\ue40c２３日０３：４８男子５００米２６日０２：４４女子１０００米２６日０４：１７男子５０００米'}"
      ]
     },
     "execution_count": 9,
     "metadata": {},
     "output_type": "execute_result"
    }
   ],
   "source": [
    "make_word_set(\"../samples/2008.sohu.com.txt\")"
   ]
  },
  {
   "cell_type": "code",
   "execution_count": 19,
   "metadata": {},
   "outputs": [],
   "source": [
    "import os\n",
    "import jieba\n",
    "import sklearn\n",
    "\n",
    "# 文本处理，样本生成的过程\n",
    "def text_processing(folder_path, test_size=0.2):\n",
    "    folder_list = os.listdir(folder_path)\n",
    "    data_list = []\n",
    "    class_list = []\n",
    "\n",
    "    # 遍历文件夹\n",
    "    for folder in folder_list:\n",
    "        new_folder_path = os.path.join(folder_path, folder)\n",
    "        files = os.listdir(new_folder_path)\n",
    "        # 读取文件\n",
    "        # j=1\n",
    "        for file in files:\n",
    "            # if j >10:   #只取10个样本文件,以防内存爆炸\n",
    "            #     break\n",
    "            with open(os.path.join(new_folder_path, file), 'r') as  fp:\n",
    "                raw = fp.read()\n",
    "                # 结巴中文分词\n",
    "                word_cut = jieba.cut(raw, cut_all=False)    #精确模式，返回的结构是一个可迭代的genertor\n",
    "                word_list = list(word_cut)  #将genertor转化为list，unicode编码\n",
    "                data_list.append(word_list) #训练集list\n",
    "                class_list.append(folder)   #类别\n",
    "                # j += 1\n",
    "\n",
    "    train_data_list, test_data_list, train_class_list, test_class_list = sklearn.cross_validation.train_test_split(\n",
    "            data_list, class_list, data_list = class_list)  #sklearn划分训练集，测试集\n",
    "\n",
    "    # 统计词频 【字典】\n",
    "    all_words_dict = {}\n",
    "    for word_list in train_data_list:\n",
    "        for word in word_list:\n",
    "            if all_words_dict.has_key(word):\n",
    "                all_words_dict[word] += 1\n",
    "            else:\n",
    "                all_words_dict[word] = 1\n",
    "    # 利用词频进行降序。内建函数sorted参数需为list\n",
    "    all_words_tuple_list = sorted(all_words_dict.items(), key=lambda x: x[1], reverse=True)\n",
    "\n",
    "    all_words_list = list(zip(*all_words_tuple_list)[0])\n",
    "    return all_words_list, train_data_list, test_data_list,train_class_list, test_class_list"
   ]
  },
  {
   "cell_type": "code",
   "execution_count": 20,
   "metadata": {},
   "outputs": [
    {
     "ename": "PermissionError",
     "evalue": "[Errno 13] Permission denied: '../.git\\\\hooks'",
     "output_type": "error",
     "traceback": [
      "\u001b[1;31m---------------------------------------------------------------------------\u001b[0m",
      "\u001b[1;31mPermissionError\u001b[0m                           Traceback (most recent call last)",
      "\u001b[1;32m<ipython-input-20-c4564997edf9>\u001b[0m in \u001b[0;36m<module>\u001b[1;34m()\u001b[0m\n\u001b[1;32m----> 1\u001b[1;33m \u001b[0mtext_processing\u001b[0m\u001b[1;33m(\u001b[0m\u001b[1;34m\"../\"\u001b[0m\u001b[1;33m,\u001b[0m \u001b[1;36m0.2\u001b[0m\u001b[1;33m)\u001b[0m\u001b[1;33m\u001b[0m\u001b[0m\n\u001b[0m",
      "\u001b[1;32m<ipython-input-19-7109d0105996>\u001b[0m in \u001b[0;36mtext_processing\u001b[1;34m(folder_path, test_size)\u001b[0m\n\u001b[0;32m     18\u001b[0m             \u001b[1;31m# if j >10:   #只取10个样本文件,以防内存爆炸\u001b[0m\u001b[1;33m\u001b[0m\u001b[1;33m\u001b[0m\u001b[0m\n\u001b[0;32m     19\u001b[0m             \u001b[1;31m#     break\u001b[0m\u001b[1;33m\u001b[0m\u001b[1;33m\u001b[0m\u001b[0m\n\u001b[1;32m---> 20\u001b[1;33m             \u001b[1;32mwith\u001b[0m \u001b[0mopen\u001b[0m\u001b[1;33m(\u001b[0m\u001b[0mos\u001b[0m\u001b[1;33m.\u001b[0m\u001b[0mpath\u001b[0m\u001b[1;33m.\u001b[0m\u001b[0mjoin\u001b[0m\u001b[1;33m(\u001b[0m\u001b[0mnew_folder_path\u001b[0m\u001b[1;33m,\u001b[0m \u001b[0mfile\u001b[0m\u001b[1;33m)\u001b[0m\u001b[1;33m,\u001b[0m \u001b[1;34m'r'\u001b[0m\u001b[1;33m)\u001b[0m \u001b[1;32mas\u001b[0m  \u001b[0mfp\u001b[0m\u001b[1;33m:\u001b[0m\u001b[1;33m\u001b[0m\u001b[0m\n\u001b[0m\u001b[0;32m     21\u001b[0m                 \u001b[0mraw\u001b[0m \u001b[1;33m=\u001b[0m \u001b[0mfp\u001b[0m\u001b[1;33m.\u001b[0m\u001b[0mread\u001b[0m\u001b[1;33m(\u001b[0m\u001b[1;33m)\u001b[0m\u001b[1;33m\u001b[0m\u001b[0m\n\u001b[0;32m     22\u001b[0m                 \u001b[1;31m# 结巴中文分词\u001b[0m\u001b[1;33m\u001b[0m\u001b[1;33m\u001b[0m\u001b[0m\n",
      "\u001b[1;31mPermissionError\u001b[0m: [Errno 13] Permission denied: '../.git\\\\hooks'"
     ]
    }
   ],
   "source": [
    "text_processing(\"../\", 0.2)"
   ]
  },
  {
   "cell_type": "code",
   "execution_count": null,
   "metadata": {},
   "outputs": [],
   "source": []
  }
 ],
 "metadata": {
  "kernelspec": {
   "display_name": "Python 3",
   "language": "python",
   "name": "python3"
  },
  "language_info": {
   "codemirror_mode": {
    "name": "ipython",
    "version": 3
   },
   "file_extension": ".py",
   "mimetype": "text/x-python",
   "name": "python",
   "nbconvert_exporter": "python",
   "pygments_lexer": "ipython3",
   "version": "3.6.4"
  }
 },
 "nbformat": 4,
 "nbformat_minor": 2
}
