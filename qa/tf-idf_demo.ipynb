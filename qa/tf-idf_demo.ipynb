{
 "cells": [
  {
   "cell_type": "code",
   "execution_count": 1,
   "metadata": {},
   "outputs": [],
   "source": [
    "import jieba\n",
    "from sklearn.feature_extraction.text import CountVectorizer\n",
    "from sklearn.feature_extraction.text import TfidfTransformer"
   ]
  },
  {
   "cell_type": "code",
   "execution_count": 8,
   "metadata": {},
   "outputs": [],
   "source": [
    "# 文本分词结果\n",
    "corpus=[\"我 来到 北京 北京 清华大学\",\n",
    "        \"他 来到 了 网易 杭研 大厦\",\n",
    "        \"小明 硕士 毕业 与 中国 科学院\",\n",
    "        \"我 爱 北京 天安门\"\n",
    "        ]"
   ]
  },
  {
   "cell_type": "code",
   "execution_count": 9,
   "metadata": {},
   "outputs": [
    {
     "name": "stdout",
     "output_type": "stream",
     "text": [
      "==========词频矩阵==========\n",
      "  (0, 8)\t1\n",
      "  (0, 1)\t2\n",
      "  (0, 5)\t1\n",
      "  (1, 2)\t1\n",
      "  (1, 6)\t1\n",
      "  (1, 11)\t1\n",
      "  (1, 5)\t1\n",
      "  (2, 10)\t1\n",
      "  (2, 0)\t1\n",
      "  (2, 7)\t1\n",
      "  (2, 9)\t1\n",
      "  (2, 4)\t1\n",
      "  (3, 3)\t1\n",
      "  (3, 1)\t1\n",
      "['中国', '北京', '大厦', '天安门', '小明', '来到', '杭研', '毕业', '清华大学', '硕士', '科学院', '网易']\n"
     ]
    }
   ],
   "source": [
    "# 该类会将文本中的词语转换为词频矩阵，矩阵元素a[i][j] 表示j词在i类文本下的词频\n",
    "vectorizer = CountVectorizer()\n",
    "tf_matrix = vectorizer.fit_transform(corpus) # 将文本转为词频矩阵\n",
    "print('==========词频矩阵==========')\n",
    "print(tf_matrix)\n",
    "# （0，8）：0表示第0个文本，8表示词表的第8个词在这段文本中出现了。括号外面的数字表示该词的词频。\n",
    "\n",
    "# 获得词袋模型中的所有词语，即词表\n",
    "word = vectorizer.get_feature_names()\n",
    "print(word)"
   ]
  },
  {
   "cell_type": "code",
   "execution_count": 10,
   "metadata": {},
   "outputs": [
    {
     "name": "stdout",
     "output_type": "stream",
     "text": [
      "==========tf-idf权值==========\n",
      "  (0, 5)\t0.3889910975917116\n",
      "  (0, 1)\t0.7779821951834232\n",
      "  (0, 8)\t0.4933858834340294\n",
      "  (1, 5)\t0.41428875116588965\n",
      "  (1, 11)\t0.5254727492640658\n",
      "  (1, 6)\t0.5254727492640658\n",
      "  (1, 2)\t0.5254727492640658\n",
      "  (2, 4)\t0.4472135954999579\n",
      "  (2, 9)\t0.4472135954999579\n",
      "  (2, 7)\t0.4472135954999579\n",
      "  (2, 0)\t0.4472135954999579\n",
      "  (2, 10)\t0.4472135954999579\n",
      "  (3, 1)\t0.6191302964899972\n",
      "  (3, 3)\t0.7852882757103967\n"
     ]
    }
   ],
   "source": [
    "# 统计每个词语的tf-idf权值\n",
    "transformer = TfidfTransformer()\n",
    "tf_idf = transformer.fit_transform(tf_matrix) # 计算tf-idf\n",
    "print('==========tf-idf权值==========')\n",
    "print(tf_idf)"
   ]
  },
  {
   "cell_type": "code",
   "execution_count": 12,
   "metadata": {
    "scrolled": true
   },
   "outputs": [
    {
     "name": "stdout",
     "output_type": "stream",
     "text": [
      "[[0.         0.7779822  0.         0.         0.         0.3889911\n",
      "  0.         0.         0.49338588 0.         0.         0.        ]\n",
      " [0.         0.         0.52547275 0.         0.         0.41428875\n",
      "  0.52547275 0.         0.         0.         0.         0.52547275]\n",
      " [0.4472136  0.         0.         0.         0.4472136  0.\n",
      "  0.         0.4472136  0.         0.4472136  0.4472136  0.        ]\n",
      " [0.         0.6191303  0.         0.78528828 0.         0.\n",
      "  0.         0.         0.         0.         0.         0.        ]]\n",
      "['中国', '北京', '大厦', '天安门', '小明', '来到', '杭研', '毕业', '清华大学', '硕士', '科学院', '网易']\n"
     ]
    }
   ],
   "source": [
    "# 将tf-idf矩阵抽取出来，元素a[i][j]表示j词在i类文本中的tf-idf权重\n",
    "weight = tf_idf.toarray()\n",
    "print(weight) # weight的维度就是词表的长度\n",
    "print(word)"
   ]
  },
  {
   "cell_type": "code",
   "execution_count": 13,
   "metadata": {},
   "outputs": [
    {
     "name": "stdout",
     "output_type": "stream",
     "text": [
      "第 0 类文本的词语tf-idf权重\n",
      "中国 0.0\n",
      "北京 0.7779821951834232\n",
      "大厦 0.0\n",
      "天安门 0.0\n",
      "小明 0.0\n",
      "来到 0.3889910975917116\n",
      "杭研 0.0\n",
      "毕业 0.0\n",
      "清华大学 0.4933858834340294\n",
      "硕士 0.0\n",
      "科学院 0.0\n",
      "网易 0.0\n",
      "第 1 类文本的词语tf-idf权重\n",
      "中国 0.0\n",
      "北京 0.0\n",
      "大厦 0.5254727492640658\n",
      "天安门 0.0\n",
      "小明 0.0\n",
      "来到 0.41428875116588965\n",
      "杭研 0.5254727492640658\n",
      "毕业 0.0\n",
      "清华大学 0.0\n",
      "硕士 0.0\n",
      "科学院 0.0\n",
      "网易 0.5254727492640658\n",
      "第 2 类文本的词语tf-idf权重\n",
      "中国 0.4472135954999579\n",
      "北京 0.0\n",
      "大厦 0.0\n",
      "天安门 0.0\n",
      "小明 0.4472135954999579\n",
      "来到 0.0\n",
      "杭研 0.0\n",
      "毕业 0.4472135954999579\n",
      "清华大学 0.0\n",
      "硕士 0.4472135954999579\n",
      "科学院 0.4472135954999579\n",
      "网易 0.0\n",
      "第 3 类文本的词语tf-idf权重\n",
      "中国 0.0\n",
      "北京 0.6191302964899972\n",
      "大厦 0.0\n",
      "天安门 0.7852882757103967\n",
      "小明 0.0\n",
      "来到 0.0\n",
      "杭研 0.0\n",
      "毕业 0.0\n",
      "清华大学 0.0\n",
      "硕士 0.0\n",
      "科学院 0.0\n",
      "网易 0.0\n"
     ]
    }
   ],
   "source": [
    "# 每类文本的tf-idf权重\n",
    "for i in range(len(weight)):\n",
    "    print('第', i, '类文本的词语tf-idf权重')\n",
    "    for j in range(len(word)):\n",
    "        print(word[j], weight[i][j])"
   ]
  },
  {
   "cell_type": "code",
   "execution_count": null,
   "metadata": {},
   "outputs": [],
   "source": [
    ""
   ]
  }
 ],
 "metadata": {
  "kernelspec": {
   "display_name": "Python 3",
   "language": "python",
   "name": "python3"
  },
  "language_info": {
   "codemirror_mode": {
    "name": "ipython",
    "version": 3.0
   },
   "file_extension": ".py",
   "mimetype": "text/x-python",
   "name": "python",
   "nbconvert_exporter": "python",
   "pygments_lexer": "ipython3",
   "version": "3.6.4"
  },
  "toc": {
   "base_numbering": 1.0,
   "nav_menu": {},
   "number_sections": true,
   "sideBar": true,
   "skip_h1_title": false,
   "title_cell": "Table of Contents",
   "title_sidebar": "Contents",
   "toc_cell": false,
   "toc_position": {},
   "toc_section_display": true,
   "toc_window_display": false
  }
 },
 "nbformat": 4,
 "nbformat_minor": 0
}