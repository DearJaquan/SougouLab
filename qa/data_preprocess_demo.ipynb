{
 "cells": [
  {
   "cell_type": "code",
   "execution_count": 2,
   "metadata": {},
   "outputs": [],
   "source": [
    "import os\n",
    "import sys\n",
    "import re\n",
    "import pandas as pd\n"
   ]
  },
  {
   "cell_type": "markdown",
   "metadata": {},
   "source": [
    "据《国家税务总局关于发布&lt;企业资产损失所得税税前扣除管理办法&gt;的公告》\n",
    "如何计算个人所得税应纳税所得额？\";\"&nbsp;一、根据《关于修改\n",
    "第二条的规定：&ldquo;车船的适用税额依照本法所附&lt;车船税税目税额表&gt;执行。\n",
    "、在建工程损失、生产性生物资产损失等。&rdquo;\n",
    "第四条第二款第二项规定：&nbsp;&ldquo;&nbsp;（二）什么是重要利益中心&nbsp;重要利益中心要参考"
   ]
  },
  {
   "cell_type": "code",
   "execution_count": 3,
   "metadata": {},
   "outputs": [
    {
     "data": {
      "text/html": [
       "<div>\n",
       "<style scoped>\n",
       "    .dataframe tbody tr th:only-of-type {\n",
       "        vertical-align: middle;\n",
       "    }\n",
       "\n",
       "    .dataframe tbody tr th {\n",
       "        vertical-align: top;\n",
       "    }\n",
       "\n",
       "    .dataframe thead th {\n",
       "        text-align: right;\n",
       "    }\n",
       "</style>\n",
       "<table border=\"1\" class=\"dataframe\">\n",
       "  <thead>\n",
       "    <tr style=\"text-align: right;\">\n",
       "      <th></th>\n",
       "      <th>knowledge_id</th>\n",
       "      <th>knowledge_q</th>\n",
       "      <th>knowledge_a</th>\n",
       "    </tr>\n",
       "  </thead>\n",
       "  <tbody>\n",
       "    <tr>\n",
       "      <th>0</th>\n",
       "      <td>1</td>\n",
       "      <td>房地产开发经营企业开发产品所产生的利息支出可否税前扣除？</td>\n",
       "      <td>根据《国家税务总局关于印发&amp;lt;房地产开发经营业务企业所得税处理办法&amp;gt;的通知》（国税...</td>\n",
       "    </tr>\n",
       "    <tr>\n",
       "      <th>1</th>\n",
       "      <td>1</td>\n",
       "      <td>国家税务总局关于增值税若干税收政策问题的批复</td>\n",
       "      <td>根据财税〔2018〕32号文件规定，自2018年5月1日起，原适用17%和11%税率的，税率...</td>\n",
       "    </tr>\n",
       "    <tr>\n",
       "      <th>2</th>\n",
       "      <td>1</td>\n",
       "      <td>其他动物组织的增值税税率是多少？</td>\n",
       "      <td>一、根据《财政部税务总局关于调整增值税税率的通知》(财税〔2018〕32号)规定：&amp;ldqu...</td>\n",
       "    </tr>\n",
       "    <tr>\n",
       "      <th>3</th>\n",
       "      <td>1</td>\n",
       "      <td>国家税务总局关于进一步规范税收执法和税务代理工作的通知</td>\n",
       "      <td>各省、自治区、直辖市和计划单列市国家税务局、地方税务局：为深入贯彻落实税收征管法，规范税收执...</td>\n",
       "    </tr>\n",
       "    <tr>\n",
       "      <th>4</th>\n",
       "      <td>1</td>\n",
       "      <td>财政部国家税务总局关于医疗卫生机构有关税收政策的通知</td>\n",
       "      <td>为了贯彻落实《国务院办公厅转发国务院体改办等部门关于城镇医药卫生体制改革指导意见的通知》，促...</td>\n",
       "    </tr>\n",
       "  </tbody>\n",
       "</table>\n",
       "</div>"
      ],
      "text/plain": [
       "   knowledge_id                   knowledge_q  \\\n",
       "0             1  房地产开发经营企业开发产品所产生的利息支出可否税前扣除？   \n",
       "1             1        国家税务总局关于增值税若干税收政策问题的批复   \n",
       "2             1              其他动物组织的增值税税率是多少？   \n",
       "3             1   国家税务总局关于进一步规范税收执法和税务代理工作的通知   \n",
       "4             1    财政部国家税务总局关于医疗卫生机构有关税收政策的通知   \n",
       "\n",
       "                                         knowledge_a  \n",
       "0  根据《国家税务总局关于印发&lt;房地产开发经营业务企业所得税处理办法&gt;的通知》（国税...  \n",
       "1  根据财税〔2018〕32号文件规定，自2018年5月1日起，原适用17%和11%税率的，税率...  \n",
       "2  一、根据《财政部税务总局关于调整增值税税率的通知》(财税〔2018〕32号)规定：&ldqu...  \n",
       "3  各省、自治区、直辖市和计划单列市国家税务局、地方税务局：为深入贯彻落实税收征管法，规范税收执...  \n",
       "4  为了贯彻落实《国务院办公厅转发国务院体改办等部门关于城镇医药卫生体制改革指导意见的通知》，促...  "
      ]
     },
     "execution_count": 3,
     "metadata": {},
     "output_type": "execute_result"
    }
   ],
   "source": [
    "# \"knowledge_id\";\"knowledge_q\";\"knowledge_a\"\n",
    "data = pd.read_csv('data/chinatax_qa.csv', delimiter=';')\n",
    "data.head()"
   ]
  },
  {
   "cell_type": "code",
   "execution_count": 5,
   "metadata": {},
   "outputs": [
    {
     "name": "stdout",
     "output_type": "stream",
     "text": [
      "<class 'pandas.core.frame.DataFrame'>\n",
      "RangeIndex: 7746 entries, 0 to 7745\n",
      "Data columns (total 3 columns):\n",
      "knowledge_id    7746 non-null int64\n",
      "knowledge_q     7746 non-null object\n",
      "knowledge_a     7739 non-null object\n",
      "dtypes: int64(1), object(2)\n",
      "memory usage: 181.6+ KB\n"
     ]
    }
   ],
   "source": [
    "data.info()"
   ]
  },
  {
   "cell_type": "code",
   "execution_count": null,
   "metadata": {},
   "outputs": [],
   "source": []
  }
 ],
 "metadata": {
  "kernelspec": {
   "display_name": "Python 3",
   "language": "python",
   "name": "python3"
  },
  "language_info": {
   "codemirror_mode": {
    "name": "ipython",
    "version": 3
   },
   "file_extension": ".py",
   "mimetype": "text/x-python",
   "name": "python",
   "nbconvert_exporter": "python",
   "pygments_lexer": "ipython3",
   "version": "3.6.4"
  },
  "toc": {
   "base_numbering": 1,
   "nav_menu": {},
   "number_sections": true,
   "sideBar": true,
   "skip_h1_title": false,
   "title_cell": "Table of Contents",
   "title_sidebar": "Contents",
   "toc_cell": false,
   "toc_position": {},
   "toc_section_display": true,
   "toc_window_display": false
  }
 },
 "nbformat": 4,
 "nbformat_minor": 2
}
